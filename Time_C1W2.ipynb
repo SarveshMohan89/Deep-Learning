{
 "cells": [
  {
   "cell_type": "code",
   "execution_count": 1,
   "metadata": {},
   "outputs": [
    {
     "name": "stdout",
     "output_type": "stream",
     "text": [
      "250063.7261483097\n",
      "Vectorization time: 29.974937438964844ms\n"
     ]
    }
   ],
   "source": [
    "import time\n",
    "import numpy as np\n",
    "\n",
    "a=np.random.rand(1000000)\n",
    "b=np.random.rand(1000000)\n",
    "tic=time.time()\n",
    "d=np.dot(a,b)\n",
    "toc=time.time()\n",
    "print(d)\n",
    "print(\"Vectorization time: \" +str(1000*(toc-tic))+ \"ms\")"
   ]
  },
  {
   "cell_type": "code",
   "execution_count": 5,
   "metadata": {},
   "outputs": [
    {
     "name": "stdout",
     "output_type": "stream",
     "text": [
      "250063.726148307\n",
      "Time: 529.9952030181885ms\n"
     ]
    }
   ],
   "source": [
    "#Non vectorized\n",
    "d=0\n",
    "tic=time.time()\n",
    "for i in range (1000000):\n",
    "    d+= a[i]*b[i]\n",
    "toc=time.time()\n",
    "print (d)\n",
    "print(\"Time: \"+str(1000*(toc-tic))+ \"ms\")\n",
    "\n"
   ]
  },
  {
   "cell_type": "code",
   "execution_count": null,
   "metadata": {},
   "outputs": [],
   "source": []
  },
  {
   "cell_type": "code",
   "execution_count": null,
   "metadata": {},
   "outputs": [],
   "source": []
  }
 ],
 "metadata": {
  "kernelspec": {
   "display_name": "Python 3",
   "language": "python",
   "name": "python3"
  },
  "language_info": {
   "codemirror_mode": {
    "name": "ipython",
    "version": 3
   },
   "file_extension": ".py",
   "mimetype": "text/x-python",
   "name": "python",
   "nbconvert_exporter": "python",
   "pygments_lexer": "ipython3",
   "version": "3.7.4"
  }
 },
 "nbformat": 4,
 "nbformat_minor": 2
}
